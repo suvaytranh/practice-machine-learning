{
 "cells": [
  {
   "cell_type": "code",
   "execution_count": 22,
   "id": "08178a6c",
   "metadata": {},
   "outputs": [],
   "source": [
    "import math\n",
    "import random"
   ]
  },
  {
   "cell_type": "code",
   "execution_count": 4,
   "id": "f82051c2",
   "metadata": {},
   "outputs": [
    {
     "name": "stdout",
     "output_type": "stream",
     "text": [
      "Print single variable ( var1 ):  str_var1 \n",
      "Print more than one variables : var1 =str_var1  , var2 =3 , var3 =15.5\n"
     ]
    }
   ],
   "source": [
    "# Examples\n",
    "var1 = 'str_var1 '\n",
    "var2 = 3\n",
    "var3 = 15.5\n",
    "print ('Print single variable ( var1 ): ',var1)\n",
    "print ( f'Print more than one variables : var1 ={var1} , var2 ={var2} , var3 ={var3}')"
   ]
  },
  {
   "cell_type": "code",
   "execution_count": 29,
   "id": "7f181f6f",
   "metadata": {},
   "outputs": [
    {
     "name": "stdout",
     "output_type": "stream",
     "text": [
      "tp must be a positive integer: -2\n",
      "precision is 0.4\n",
      "recall is 0.3333333333333333\n",
      "f1-score is 0.3636363636363636\n",
      "tp must be a positive integer: a\n",
      "fp must be a positive integer: a\n",
      "fn must be a positive integer: a\n",
      "fn must be a positive integer: 0\n",
      "tp must be a positive integer: 0\n",
      "fp must be a positive integer: 0\n",
      "tp must be a positive integer: 2.1\n"
     ]
    }
   ],
   "source": [
    "def precision(tp,fp):\n",
    "    return tp/(tp+fp)\n",
    "\n",
    "def recall(tp,fn):\n",
    "    return tp/(tp+fn)\n",
    "\n",
    "def f1_score(precision, recall):\n",
    "    return 2*(precision*recall)/(precision + recall)\n",
    "\n",
    "def is_positive_integer(value):\n",
    "    return isinstance(value, int) and (value > 0)\n",
    "\n",
    "def exercise1(tp, fp, fn):\n",
    "\n",
    "    if not is_positive_integer(tp):\n",
    "        print(f'tp must be a positive integer: {tp}')\n",
    "        return\n",
    "        \n",
    "    if not is_positive_integer(fp):\n",
    "        print(f'fp must be a positive integer: {fp}')\n",
    "        return\n",
    "    \n",
    "    if not is_positive_integer(fn):\n",
    "        print(f'fn must be a positive integer: {fn}')\n",
    "        return\n",
    "    \n",
    "    precision_value = precision(tp,fp)\n",
    "    recall_value = recall(tp, fn)\n",
    "    f1_value = f1_score(precision_value, recall_value)\n",
    "    print(f'precision is {precision_value}')\n",
    "    print(f'recall is {recall_value}')\n",
    "    print(f'f1-score is {f1_value}')\n",
    "    \n",
    "exercise1(tp=-2, fp =3, fn =4)\n",
    "exercise1(tp=2, fp =3, fn =4)\n",
    "exercise1(tp='a', fp =3, fn =4)\n",
    "exercise1(tp =2 , fp ='a', fn =4)\n",
    "exercise1(tp =2 , fp =3 , fn ='a')\n",
    "exercise1(tp =2 , fp =3 , fn =0)\n",
    "exercise1(tp =0 , fp =3 , fn =0)\n",
    "exercise1(tp =1 , fp =0 , fn =0)\n",
    "exercise1(tp =2.1 ,fp =3 , fn =0)"
   ]
  },
  {
   "cell_type": "code",
   "execution_count": 21,
   "id": "3ef32f24",
   "metadata": {},
   "outputs": [
    {
     "name": "stdout",
     "output_type": "stream",
     "text": [
      "Choose activation Function(sigmoid|relu|elu):sigmoid\n",
      "Input x=1.5\n",
      "sigmoid(1.5)=0.8175744761936437\n"
     ]
    }
   ],
   "source": [
    "#Viết function mô phỏng theo 3 activation function.\n",
    "def sigmoid(x):\n",
    "    return 1 / (1 + math.exp(-x))\n",
    "\n",
    "def relu(x):\n",
    "    if x <= 0:\n",
    "        return 0\n",
    "    return x\n",
    "\n",
    "def elu(x, anpla = 0.01):\n",
    "    if x <= 0:\n",
    "        return anpla * (math.exp(x) - 1)\n",
    "    return x\n",
    "\n",
    "def is_number(n):\n",
    "    try :\n",
    "        float ( n ) \n",
    "    except ValueError:\n",
    "        return False\n",
    "    return True\n",
    "    \n",
    "def exercise2():\n",
    "    func = input('Choose activation Function(sigmoid|relu|elu):')\n",
    "    if func != 'sigmoid' and func != 'relu' and func != 'elu':\n",
    "        print(f'Invalid activation function: {func}')\n",
    "        return\n",
    "    value_x = input('Input x=')\n",
    "    if not is_number(value_x):\n",
    "        print(f'Invalid value x : {value_x}')\n",
    "        return\n",
    "    \n",
    "    activation_functions = {\n",
    "        'sigmoid' : sigmoid,\n",
    "        'relu': relu,\n",
    "        'elu':elu,\n",
    "    }\n",
    "    \n",
    "    result = activation_functions.get(func)(float(value_x))\n",
    "    print(f'{func}({value_x})={result}')\n",
    "    \n",
    "exercise2()"
   ]
  },
  {
   "cell_type": "code",
   "execution_count": 43,
   "id": "8e8128e3",
   "metadata": {},
   "outputs": [],
   "source": [
    "def mae(num_samples):\n",
    "    sum_loss = 0\n",
    "    for _ in range(num_samples):\n",
    "        predict = random.uniform(0,10)\n",
    "        target = random.uniform(0,10)\n",
    "        loss = abs(target - predict)\n",
    "        sum_loss += loss\n",
    "        print(f'Loss name: MAE target = {target} predict={predict} loss={loss}')\n",
    "        \n",
    "    return sum_loss/num_samples\n",
    "\n",
    "def mse(num_samples):\n",
    "    sum_loss =0\n",
    "    for _ in range(num_samples):\n",
    "        predict = random.uniform(0,10)\n",
    "        target = random.uniform(0,10)\n",
    "        loss = math.pow(target - predict, 2)\n",
    "        sum_loss += loss\n",
    "        print(f'Loss name: MSE target = {target} predict={predict} loss={loss}')\n",
    "    \n",
    "    return sum_loss/num_samples\n",
    "\n",
    "def rmse(num_samples):\n",
    "    return math.sqrt(mse(num_samples))\n",
    "\n",
    "def exercise3():\n",
    "    \n",
    "    num_samples = input('Input the number of samples:')\n",
    "    if not num_samples.isnumeric() :\n",
    "        print(f'Invalid the number of samples: {num_samples}')\n",
    "        return\n",
    "    \n",
    "    loss_func_name = input('Choose loss function(mae|mse|rmse):')\n",
    "    if loss_func_name != 'mae' and loss_func_name != 'mse' and loss_func_name != 'rmse':\n",
    "        print(f'Invalid loss function: {loss_func_name}')\n",
    "        return\n",
    "    \n",
    "    loss_functions = {\n",
    "        'mae' : mae,\n",
    "        'mse': mse,\n",
    "        'rmse':rmse,\n",
    "    }\n",
    "    \n",
    "    result = loss_functions.get(loss_func_name)(int(num_samples))\n",
    "    print(f'Final {loss_func_name.upper()} : {result}')"
   ]
  },
  {
   "cell_type": "code",
   "execution_count": 44,
   "id": "74c153e5",
   "metadata": {},
   "outputs": [
    {
     "name": "stdout",
     "output_type": "stream",
     "text": [
      "Input the number of samples:5\n",
      "Choose loss function(mae|mse|rmse):mae\n",
      "Loss name: MAE target = 7.973615223472045 predict=6.0809030160537585 loss=1.8927122074182865\n",
      "Loss name: MAE target = 2.833050605058738 predict=2.05167408860068 loss=0.781376516458058\n",
      "Loss name: MAE target = 4.740082331897071 predict=9.98299464965638 loss=5.242912317759309\n",
      "Loss name: MAE target = 6.381817965338899 predict=8.605332182700788 loss=2.223514217361889\n",
      "Loss name: MAE target = 7.476511621385372 predict=8.347303862713598 loss=0.8707922413282265\n",
      "Final MAE : 2.2022615000651538\n"
     ]
    }
   ],
   "source": [
    "exercise3()"
   ]
  },
  {
   "cell_type": "code",
   "execution_count": 45,
   "id": "a1b4b4e4",
   "metadata": {},
   "outputs": [
    {
     "name": "stdout",
     "output_type": "stream",
     "text": [
      "Input the number of samples:5\n",
      "Choose loss function(mae|mse|rmse):mse\n",
      "Loss name: MSE target = 3.7011493768657155 predict=4.492584837020402 loss=0.6263700875902607\n",
      "Loss name: MSE target = 8.215242554653218 predict=8.808520460401 loss=0.35197867344847533\n",
      "Loss name: MSE target = 9.482547694425765 predict=4.808616419471091 loss=21.84563356299942\n",
      "Loss name: MSE target = 6.982889762492013 predict=9.285888804238612 loss=5.303804586285753\n",
      "Loss name: MSE target = 3.9940245741284377 predict=7.9452386774777874 loss=15.612092890506807\n",
      "Final MSE : 8.747975960166142\n"
     ]
    }
   ],
   "source": [
    "exercise3()"
   ]
  },
  {
   "cell_type": "code",
   "execution_count": 46,
   "id": "12299fa0",
   "metadata": {},
   "outputs": [
    {
     "name": "stdout",
     "output_type": "stream",
     "text": [
      "Input the number of samples:5\n",
      "Choose loss function(mae|mse|rmse):rmse\n",
      "Loss name: MSE target = 3.0657217005361814 predict=5.197757943502236 loss=4.545578541320808\n",
      "Loss name: MSE target = 8.601634776646364 predict=5.054239419886438 loss=12.584013817161878\n",
      "Loss name: MSE target = 4.428425354223103 predict=5.663394146239261 loss=1.525147917253848\n",
      "Loss name: MSE target = 9.369148363251178 predict=3.8036749403597514 loss=30.9744944209108\n",
      "Loss name: MSE target = 4.521777892915533 predict=3.626935183214602 loss=0.800743475104904\n",
      "Final RMSE : 3.1758456565693565\n"
     ]
    }
   ],
   "source": [
    "exercise3()"
   ]
  },
  {
   "cell_type": "code",
   "execution_count": 47,
   "id": "b49c8688",
   "metadata": {},
   "outputs": [
    {
     "name": "stdout",
     "output_type": "stream",
     "text": [
      "Input the number of samples:aa\n",
      "Invalid the number of samples: aa\n"
     ]
    }
   ],
   "source": [
    "exercise3()"
   ]
  },
  {
   "cell_type": "code",
   "execution_count": 48,
   "id": "fa995d53",
   "metadata": {},
   "outputs": [
    {
     "name": "stdout",
     "output_type": "stream",
     "text": [
      "Input the number of samples:5\n",
      "Choose loss function(mae|mse|rmse):asa\n",
      "Invalid loss function: asa\n"
     ]
    }
   ],
   "source": [
    "exercise3()"
   ]
  },
  {
   "cell_type": "code",
   "execution_count": null,
   "id": "fa85f7de",
   "metadata": {},
   "outputs": [],
   "source": [
    "# tinh giai thua\n",
    "def factorial(n):\n",
    "    if n == 0:\n",
    "        return 1\n",
    "\n",
    "    result = 1\n",
    "    for i in range(1, n + 1):\n",
    "        result *= i\n",
    "    return result\n",
    "\n",
    "def sin(x,n):\n",
    "    sum = 0\n",
    "    for i in range(n):\n",
    "        sum += math.pow(-1,i)*math.pow(x, 2*i +1)/factorial(2*i+1)\n",
    "        \n",
    "    return sum\n",
    "    \n",
    "def exercise4():\n",
    "    x = input('Input x:=')\n",
    "    if not x.isnumeric():\n",
    "        print(f'Invalid x: {x}')\n",
    "        return\n",
    "    \n",
    "    n = input('Input n:=')\n",
    "    if not n.isnumeric() or not is_positive_integer(int(n)) :\n",
    "        print(f'Invalid n: {n}')\n",
    "        return\n",
    "    \n",
    "    func_list = {\n",
    "        'sin': sin,\n",
    "        'cos':cos,\n",
    "        'sinh':sinh,\n",
    "        'cosh':cosh,\n",
    "    }"
   ]
  }
 ],
 "metadata": {
  "kernelspec": {
   "display_name": "Python 3",
   "language": "python",
   "name": "python3"
  },
  "language_info": {
   "codemirror_mode": {
    "name": "ipython",
    "version": 3
   },
   "file_extension": ".py",
   "mimetype": "text/x-python",
   "name": "python",
   "nbconvert_exporter": "python",
   "pygments_lexer": "ipython3",
   "version": "3.8.8"
  }
 },
 "nbformat": 4,
 "nbformat_minor": 5
}
