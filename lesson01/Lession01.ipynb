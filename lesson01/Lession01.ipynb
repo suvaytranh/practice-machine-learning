{
 "cells": [
  {
   "cell_type": "code",
   "execution_count": 4,
   "id": "05f21ace",
   "metadata": {},
   "outputs": [
    {
     "name": "stdout",
     "output_type": "stream",
     "text": [
      "Print single variable ( var1 ):  str_var1 \n",
      "Print more than one variables : var1 =str_var1  , var2 =3 , var3 =15.5\n"
     ]
    }
   ],
   "source": [
    "# Examples\n",
    "var1 = 'str_var1 '\n",
    "var2 = 3\n",
    "var3 = 15.5\n",
    "print ('Print single variable ( var1 ): ',var1)\n",
    "print ( f'Print more than one variables : var1 ={var1} , var2 ={var2} , var3 ={var3}')"
   ]
  },
  {
   "cell_type": "code",
   "execution_count": 7,
   "id": "fc2983cb",
   "metadata": {},
   "outputs": [
    {
     "name": "stdout",
     "output_type": "stream",
     "text": [
      "precision is 0.4\n",
      "recall is 0.3333333333333333\n",
      "f1-score is 0.3636363636363636\n",
      "tp must be a positive integer: a\n"
     ]
    }
   ],
   "source": [
    "def precision(tp,fp):\n",
    "    return tp/(tp+fp)\n",
    "\n",
    "def recall(tp,fn):\n",
    "    return tp/(tp+fn)\n",
    "\n",
    "def f1_score(precision, recall):\n",
    "    return 2*(precision*recall)/(precision + recall)\n",
    "\n",
    "def is_positive_integer(value):\n",
    "    return isinstance(value, int) and (value > 0)\n",
    "\n",
    "def exercise1(tp, fp, fn):\n",
    "\n",
    "    if not is_positive_integer(tp):\n",
    "        print(f'tp must be a positive integer: {tp}')\n",
    "        return\n",
    "        \n",
    "    if not is_positive_integer(fp):\n",
    "        print(f'tp must be a positive integer: {fp}')\n",
    "        return\n",
    "    \n",
    "    if not is_positive_integer(fn):\n",
    "        print(f'tp must be a positive integer: {fn}')\n",
    "        return\n",
    "    \n",
    "    precision_value = precision(tp,fp)\n",
    "    recall_value = recall(tp, fn)\n",
    "    f1_value = f1_score(precision_value, recall_value)\n",
    "    print(f'precision is {precision_value}')\n",
    "    print(f'recall is {recall_value}')\n",
    "    print(f'f1-score is {f1_value}')\n",
    "    \n",
    "exercise1(tp=2, fp =3, fn =4)\n",
    "exercise1(tp='a', fp =3, fn =4)"
   ]
  }
 ],
 "metadata": {
  "kernelspec": {
   "display_name": "Python 3",
   "language": "python",
   "name": "python3"
  },
  "language_info": {
   "codemirror_mode": {
    "name": "ipython",
    "version": 3
   },
   "file_extension": ".py",
   "mimetype": "text/x-python",
   "name": "python",
   "nbconvert_exporter": "python",
   "pygments_lexer": "ipython3",
   "version": "3.8.8"
  }
 },
 "nbformat": 4,
 "nbformat_minor": 5
}
