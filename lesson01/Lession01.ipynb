{
 "cells": [
  {
   "cell_type": "code",
   "execution_count": 81,
   "id": "4ead05f1",
   "metadata": {},
   "outputs": [],
   "source": [
    "import math\n",
    "import random"
   ]
  },
  {
   "cell_type": "code",
   "execution_count": 82,
   "id": "51c6e088",
   "metadata": {},
   "outputs": [
    {
     "name": "stdout",
     "output_type": "stream",
     "text": [
      "Print single variable ( var1 ):  str_var1 \n",
      "Print more than one variables : var1 =str_var1  , var2 =3 , var3 =15.5\n"
     ]
    }
   ],
   "source": [
    "# Examples\n",
    "var1 = 'str_var1 '\n",
    "var2 = 3\n",
    "var3 = 15.5\n",
    "print ('Print single variable ( var1 ): ',var1)\n",
    "print ( f'Print more than one variables : var1 ={var1} , var2 ={var2} , var3 ={var3}')"
   ]
  },
  {
   "cell_type": "code",
   "execution_count": 83,
   "id": "7c67177a",
   "metadata": {},
   "outputs": [],
   "source": [
    "def is_number(n):\n",
    "    try :\n",
    "        float ( n ) # Type - casting the string to ‘float ‘.\n",
    "    except ValueError :\n",
    "        return False\n",
    "    return True"
   ]
  },
  {
   "cell_type": "code",
   "execution_count": 84,
   "id": "d4aca061",
   "metadata": {},
   "outputs": [
    {
     "name": "stdout",
     "output_type": "stream",
     "text": [
      "tp must be a positive integer: -2\n",
      "precision is 0.4\n",
      "recall is 0.3333333333333333\n",
      "f1-score is 0.3636363636363636\n",
      "tp must be a positive integer: a\n",
      "fp must be a positive integer: a\n",
      "fn must be a positive integer: a\n",
      "fn must be a positive integer: 0\n",
      "tp must be a positive integer: 0\n",
      "fp must be a positive integer: 0\n",
      "tp must be a positive integer: 2.1\n"
     ]
    }
   ],
   "source": [
    "def precision(tp,fp):\n",
    "    return tp/(tp+fp)\n",
    "\n",
    "def recall(tp,fn):\n",
    "    return tp/(tp+fn)\n",
    "\n",
    "def f1_score(precision, recall):\n",
    "    return 2*(precision*recall)/(precision + recall)\n",
    "\n",
    "def is_positive_integer(value):\n",
    "    return isinstance(value, int) and (value > 0)\n",
    "\n",
    "def exercise1(tp, fp, fn):\n",
    "\n",
    "    if not is_positive_integer(tp):\n",
    "        print(f'tp must be a positive integer: {tp}')\n",
    "        return\n",
    "        \n",
    "    if not is_positive_integer(fp):\n",
    "        print(f'fp must be a positive integer: {fp}')\n",
    "        return\n",
    "    \n",
    "    if not is_positive_integer(fn):\n",
    "        print(f'fn must be a positive integer: {fn}')\n",
    "        return\n",
    "    \n",
    "    precision_value = precision(tp,fp)\n",
    "    recall_value = recall(tp, fn)\n",
    "    f1_value = f1_score(precision_value, recall_value)\n",
    "    print(f'precision is {precision_value}')\n",
    "    print(f'recall is {recall_value}')\n",
    "    print(f'f1-score is {f1_value}')\n",
    "    \n",
    "exercise1(tp=-2, fp =3, fn =4)\n",
    "exercise1(tp=2, fp =3, fn =4)\n",
    "exercise1(tp='a', fp =3, fn =4)\n",
    "exercise1(tp =2 , fp ='a', fn =4)\n",
    "exercise1(tp =2 , fp =3 , fn ='a')\n",
    "exercise1(tp =2 , fp =3 , fn =0)\n",
    "exercise1(tp =0 , fp =3 , fn =0)\n",
    "exercise1(tp =1 , fp =0 , fn =0)\n",
    "exercise1(tp =2.1 ,fp =3 , fn =0)"
   ]
  },
  {
   "cell_type": "code",
   "execution_count": 85,
   "id": "1dc43efe",
   "metadata": {},
   "outputs": [
    {
     "name": "stdout",
     "output_type": "stream",
     "text": [
      "precision is 0.4\n",
      "recall is 0.2857142857142857\n",
      "f1-score is 0.3333333333333333\n"
     ]
    }
   ],
   "source": [
    "exercise1(tp=2,fp=3,fn=5)"
   ]
  },
  {
   "cell_type": "code",
   "execution_count": 86,
   "id": "75ff1de9",
   "metadata": {},
   "outputs": [
    {
     "name": "stdout",
     "output_type": "stream",
     "text": [
      "Choose activation Function(sigmoid|relu|elu):sigmoid\n",
      "Input x=10\n",
      "sigmoid(10)=0.9999546021312976\n"
     ]
    }
   ],
   "source": [
    "#Viết function mô phỏng theo 3 activation function.\n",
    "def sigmoid(x):\n",
    "    return 1 / (1 + math.exp(-x))\n",
    "\n",
    "def relu(x):\n",
    "    if x <= 0:\n",
    "        return 0\n",
    "    return x\n",
    "\n",
    "def elu(x, anpla = 0.01):\n",
    "    if x <= 0:\n",
    "        return anpla * (math.exp(x) - 1)\n",
    "    return x\n",
    "\n",
    "def is_number(n):\n",
    "    try :\n",
    "        float ( n ) \n",
    "    except ValueError:\n",
    "        return False\n",
    "    return True\n",
    "    \n",
    "def exercise2():\n",
    "    func = input('Choose activation Function(sigmoid|relu|elu):')\n",
    "    if func != 'sigmoid' and func != 'relu' and func != 'elu':\n",
    "        print(f'Invalid activation function: {func}')\n",
    "        return\n",
    "    value_x = input('Input x=')\n",
    "    if not is_number(value_x):\n",
    "        print(f'Invalid value x : {value_x}')\n",
    "        return\n",
    "    \n",
    "    activation_functions = {\n",
    "        'sigmoid' : sigmoid,\n",
    "        'relu': relu,\n",
    "        'elu':elu,\n",
    "    }\n",
    "    \n",
    "    result = activation_functions.get(func)(float(value_x))\n",
    "    print(f'{func}({value_x})={result}')\n",
    "    \n",
    "exercise2()"
   ]
  },
  {
   "cell_type": "code",
   "execution_count": 87,
   "id": "b007691b",
   "metadata": {},
   "outputs": [
    {
     "name": "stdout",
     "output_type": "stream",
     "text": [
      "0.88\n",
      "-0.01\n",
      "0.95\n"
     ]
    }
   ],
   "source": [
    "print(round(sigmoid(2),2))\n",
    "print(round(elu(-1),2))\n",
    "print(round(sigmoid(3),2))"
   ]
  },
  {
   "cell_type": "code",
   "execution_count": 88,
   "id": "b874be5e",
   "metadata": {},
   "outputs": [],
   "source": [
    "def mae(num_samples):\n",
    "    sum_loss = 0\n",
    "    for _ in range(num_samples):\n",
    "        predict = random.uniform(0,10)\n",
    "        target = random.uniform(0,10)\n",
    "        loss = abs(target - predict)\n",
    "        sum_loss += loss\n",
    "        print(f'Loss name: MAE target = {target} predict={predict} loss={loss}')\n",
    "        \n",
    "    return sum_loss/num_samples\n",
    "\n",
    "def mse(num_samples):\n",
    "    sum_loss =0\n",
    "    for _ in range(num_samples):\n",
    "        predict = random.uniform(0,10)\n",
    "        target = random.uniform(0,10)\n",
    "        loss = math.pow(target - predict, 2)\n",
    "        sum_loss += loss\n",
    "        print(f'Loss name: MSE target = {target} predict={predict} loss={loss}')\n",
    "    \n",
    "    return sum_loss/num_samples\n",
    "\n",
    "def rmse(num_samples):\n",
    "    return math.sqrt(mse(num_samples))\n",
    "\n",
    "def exercise3():\n",
    "    \n",
    "    num_samples = input('Input the number of samples:')\n",
    "    if not num_samples.isnumeric() :\n",
    "        print(f'Invalid the number of samples: {num_samples}')\n",
    "        return\n",
    "    \n",
    "    loss_func_name = input('Choose loss function(mae|mse|rmse):')\n",
    "    if loss_func_name != 'mae' and loss_func_name != 'mse' and loss_func_name != 'rmse':\n",
    "        print(f'Invalid loss function: {loss_func_name}')\n",
    "        return\n",
    "    \n",
    "    loss_functions = {\n",
    "        'mae' : mae,\n",
    "        'mse': mse,\n",
    "        'rmse':rmse,\n",
    "    }\n",
    "    \n",
    "    result = loss_functions.get(loss_func_name)(int(num_samples))\n",
    "    print(f'Final {loss_func_name.upper()} : {result}')"
   ]
  },
  {
   "cell_type": "code",
   "execution_count": 89,
   "id": "da22d1c5",
   "metadata": {},
   "outputs": [
    {
     "name": "stdout",
     "output_type": "stream",
     "text": [
      "Input the number of samples:10\n",
      "Choose loss function(mae|mse|rmse):mae\n",
      "Loss name: MAE target = 2.8866635765333304 predict=3.883200502520834 loss=0.9965369259875034\n",
      "Loss name: MAE target = 8.335132064977774 predict=5.035544082697289 loss=3.299587982280485\n",
      "Loss name: MAE target = 9.109354378805754 predict=4.207643174024977 loss=4.901711204780778\n",
      "Loss name: MAE target = 5.195694766909361 predict=9.501976426102779 loss=4.306281659193417\n",
      "Loss name: MAE target = 4.003115693099794 predict=2.921708615876782 loss=1.0814070772230115\n",
      "Loss name: MAE target = 5.597299757267997 predict=4.341870855944839 loss=1.2554289013231585\n",
      "Loss name: MAE target = 7.016309419783187 predict=3.8317192533936275 loss=3.184590166389559\n",
      "Loss name: MAE target = 7.226631880951103 predict=4.5058803231165445 loss=2.720751557834559\n",
      "Loss name: MAE target = 2.4908540914155797 predict=4.778068192051403 loss=2.2872141006358238\n",
      "Loss name: MAE target = 7.520617204256137 predict=0.2559119149990907 loss=7.264705289257046\n",
      "Final MAE : 3.129821486490534\n"
     ]
    }
   ],
   "source": [
    "exercise3()"
   ]
  },
  {
   "cell_type": "code",
   "execution_count": 90,
   "id": "8bb666d8",
   "metadata": {},
   "outputs": [
    {
     "name": "stdout",
     "output_type": "stream",
     "text": [
      "Input the number of samples:10\n",
      "Choose loss function(mae|mse|rmse):mse\n",
      "Loss name: MSE target = 8.403371299790436 predict=6.325823427352727 loss=4.3162051622704505\n",
      "Loss name: MSE target = 0.700566319865289 predict=8.009262444530043 loss=53.41703904268959\n",
      "Loss name: MSE target = 9.99304717726168 predict=5.8374367790229575 loss=17.269097781949792\n",
      "Loss name: MSE target = 8.018091290918438 predict=4.123939884368638 loss=15.164415177133785\n",
      "Loss name: MSE target = 6.782103390285644 predict=0.3143124687809762 loss=41.832319404298204\n",
      "Loss name: MSE target = 0.5258720841285314 predict=0.7037925943740175 loss=0.03165570796601415\n",
      "Loss name: MSE target = 6.097810690639345 predict=7.162937856216351 loss=1.1344958788501063\n",
      "Loss name: MSE target = 5.214287048388412 predict=5.507890850200373 loss=0.0862031924384372\n",
      "Loss name: MSE target = 3.8629034087787604 predict=4.834410330419128 loss=0.9438256987951429\n",
      "Loss name: MSE target = 6.592216425592639 predict=7.909107967906774 loss=1.734203334218501\n",
      "Final MSE : 13.592946038061005\n"
     ]
    }
   ],
   "source": [
    "exercise3()"
   ]
  },
  {
   "cell_type": "code",
   "execution_count": 91,
   "id": "28dbb1f1",
   "metadata": {},
   "outputs": [
    {
     "name": "stdout",
     "output_type": "stream",
     "text": [
      "Input the number of samples:10\n",
      "Choose loss function(mae|mse|rmse):rmse\n",
      "Loss name: MSE target = 6.562589396921928 predict=7.35638069782663 loss=0.6301046293919788\n",
      "Loss name: MSE target = 2.6900478980274145 predict=9.94527979010125 loss=52.638389807765286\n",
      "Loss name: MSE target = 4.447758867693747 predict=4.959182915795295 loss=0.261554556976574\n",
      "Loss name: MSE target = 1.4835026418417463 predict=7.858234230746875 loss=40.63720283058491\n",
      "Loss name: MSE target = 4.912025901639564 predict=0.9278456375927524 loss=15.87369237642012\n",
      "Loss name: MSE target = 4.854702300535024 predict=5.994620069433273 loss=1.299412519849961\n",
      "Loss name: MSE target = 9.867811916818075 predict=0.494832745865309 loss=87.8527385391144\n",
      "Loss name: MSE target = 8.439728349754692 predict=9.868739804136277 loss=2.0420737367537747\n",
      "Loss name: MSE target = 7.916484264245735 predict=0.022655517677223624 loss=62.31253228015139\n",
      "Loss name: MSE target = 7.672661209368556 predict=4.128913071000894 loss=12.55815086818427\n",
      "Final RMSE : 5.25457754862551\n"
     ]
    }
   ],
   "source": [
    "exercise3()"
   ]
  },
  {
   "cell_type": "code",
   "execution_count": 92,
   "id": "db0c91a7",
   "metadata": {},
   "outputs": [
    {
     "name": "stdout",
     "output_type": "stream",
     "text": [
      "Input the number of samples:10\n",
      "Choose loss function(mae|mse|rmse):fr\n",
      "Invalid loss function: fr\n"
     ]
    }
   ],
   "source": [
    "exercise3()"
   ]
  },
  {
   "cell_type": "code",
   "execution_count": 93,
   "id": "31a87f2f",
   "metadata": {},
   "outputs": [
    {
     "name": "stdout",
     "output_type": "stream",
     "text": [
      "Input the number of samples:10\n",
      "Choose loss function(mae|mse|rmse):mse\n",
      "Loss name: MSE target = 2.776890031104531 predict=6.378708180397688 loss=12.973093980577588\n",
      "Loss name: MSE target = 1.572245516369637 predict=7.277925958115171 loss=32.554789303317506\n",
      "Loss name: MSE target = 5.931086376205842 predict=2.7329426310524396 loss=10.228123414663832\n",
      "Loss name: MSE target = 0.17930296035229887 predict=9.27970175542029 loss=82.81725822927493\n",
      "Loss name: MSE target = 1.1626325189774511 predict=5.927575029538309 loss=22.704677128950003\n",
      "Loss name: MSE target = 7.9484813054219 predict=4.501384371551522 loss=11.882477271498566\n",
      "Loss name: MSE target = 5.670476014754886 predict=9.132016422735546 loss=11.982261996082915\n",
      "Loss name: MSE target = 6.821994315461069 predict=2.2917870205615296 loss=20.522778134761\n",
      "Loss name: MSE target = 5.374001122109998 predict=0.2404678063044785 loss=26.35316430448522\n",
      "Loss name: MSE target = 2.384469695420294 predict=9.04346052668318 loss=44.34215889084319\n",
      "Final MSE : 27.636078265445473\n"
     ]
    }
   ],
   "source": [
    "exercise3()"
   ]
  },
  {
   "cell_type": "code",
   "execution_count": 94,
   "id": "046e8bb6",
   "metadata": {},
   "outputs": [],
   "source": [
    "# tinh giai thua\n",
    "def factorial(n):\n",
    "    if n == 0:\n",
    "        return 1\n",
    "\n",
    "    result = 1\n",
    "    for i in range(1, n + 1):\n",
    "        result *= i\n",
    "    return result\n",
    "\n",
    "def sin(x,n):\n",
    "    sum = 0\n",
    "    for i in range(n):\n",
    "        sum += math.pow(-1,i)*math.pow(x, 2*i +1)/factorial(2*i+1)\n",
    "        \n",
    "    return sum\n",
    "\n",
    "def cos(x,n):\n",
    "    sum = 0\n",
    "    for i in range(n):\n",
    "        sum += math.pow(-1,i)*math.pow(x, 2*i)/factorial(2*i)\n",
    "        \n",
    "    return sum\n",
    "\n",
    "def sinh(x,n):\n",
    "    sum = 0\n",
    "    for i in range(n):\n",
    "        sum += math.pow(x, 2*i+1)/factorial(2*i+1)\n",
    "        \n",
    "    return sum\n",
    "\n",
    "def cosh(x,n):\n",
    "    sum = 0\n",
    "    for i in range(n):\n",
    "        sum += math.pow(x, 2*i)/factorial(2*i)\n",
    "        \n",
    "    return sum\n",
    "\n",
    "    \n",
    "def exercise4():\n",
    "    x = input('Input x:=')\n",
    "    if not is_number(x):\n",
    "        print(f'Invalid x: {x}')\n",
    "        return\n",
    "    \n",
    "    n = input('Input n:=')\n",
    "    if not is_number(n) or not is_positive_integer(int(n)) :\n",
    "        print(f'Invalid n: {n}')\n",
    "        return\n",
    "    \n",
    "    print(f\"sin(x={x}, n= {n}) = {sin(float(x),int(n))}\")\n",
    "    print(f'cos(x={x}, n= {n}) = {cos(float(x),int(n))}')\n",
    "    print(f'sinh(x={x}, n= {n}) = {sinh(float(x),int(n))}')\n",
    "    print(f'cosh(x={x}, n= {n}) = {cosh(float(x),int(n))}')"
   ]
  },
  {
   "cell_type": "code",
   "execution_count": 95,
   "id": "a2887b5f",
   "metadata": {},
   "outputs": [
    {
     "name": "stdout",
     "output_type": "stream",
     "text": [
      "-1.0\n",
      "0.0016\n",
      "11.53\n",
      "11.57\n"
     ]
    }
   ],
   "source": [
    "print(round(cos(x =3.14,n =10),2))\n",
    "print(round(sin(x =3.14,n =10),4))\n",
    "print(round(sinh(x =3.14,n =10),2))\n",
    "print(round(cosh(x =3.14,n =10),2))"
   ]
  },
  {
   "cell_type": "code",
   "execution_count": 96,
   "id": "4f035aab",
   "metadata": {},
   "outputs": [
    {
     "name": "stdout",
     "output_type": "stream",
     "text": [
      "Input x:=3.14\n",
      "Input n:=10\n",
      "sin(x=3.14, n= 10) = 0.001592652393160744\n",
      "cos(x=3.14, n= 10) = -0.9999987352210833\n",
      "sinh(x=3.14, n= 10) = 11.530292029865986\n",
      "cosh(x=3.14, n= 10) = 11.573574824666185\n"
     ]
    }
   ],
   "source": [
    "exercise4()"
   ]
  },
  {
   "cell_type": "code",
   "execution_count": 97,
   "id": "1e16c392",
   "metadata": {},
   "outputs": [
    {
     "name": "stdout",
     "output_type": "stream",
     "text": [
      "md_nre_single_sample(100,99.5,2,1)=0.025031328369998107\n",
      "md_nre_single_sample(50,49.5,2,1)=0.03544417213033135\n",
      "md_nre_single_sample(20,19.5,2,1)=0.05625552183565574\n",
      "md_nre_single_sample(0.6,0.1,2,1)=0.45836890322464546\n"
     ]
    }
   ],
   "source": [
    "# exercise 5\n",
    "def md_nre_single_sample(y, y_hat, n, p):\n",
    "    return math.pow(y**(1/n) - y_hat**(1/n),p) \n",
    "\n",
    "print(f'md_nre_single_sample(100,99.5,2,1)={md_nre_single_sample(y =100,y_hat =99.5, n =2,p =1)}')\n",
    "print(f'md_nre_single_sample(50,49.5,2,1)={md_nre_single_sample(y =50,y_hat =49.5, n =2,p =1)}')\n",
    "print(f'md_nre_single_sample(20,19.5,2,1)={md_nre_single_sample(y =20,y_hat =19.5, n =2,p =1)}')\n",
    "print(f'md_nre_single_sample(0.6,0.1,2,1)={md_nre_single_sample(y =0.6,y_hat =0.1, n =2,p =1)}')\n"
   ]
  },
  {
   "cell_type": "code",
   "execution_count": null,
   "id": "415e993e",
   "metadata": {},
   "outputs": [],
   "source": []
  }
 ],
 "metadata": {
  "kernelspec": {
   "display_name": "Python 3",
   "language": "python",
   "name": "python3"
  },
  "language_info": {
   "codemirror_mode": {
    "name": "ipython",
    "version": 3
   },
   "file_extension": ".py",
   "mimetype": "text/x-python",
   "name": "python",
   "nbconvert_exporter": "python",
   "pygments_lexer": "ipython3",
   "version": "3.8.8"
  }
 },
 "nbformat": 4,
 "nbformat_minor": 5
}
