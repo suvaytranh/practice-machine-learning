{
 "cells": [
  {
   "cell_type": "code",
   "execution_count": 1,
   "id": "d90a1d8d",
   "metadata": {},
   "outputs": [],
   "source": [
    "def sliding_window_max(num_list, k):\n",
    "    if k < 1:\n",
    "        raise ValueError(\"Window size must be greater than 0.\")\n",
    "    \n",
    "    for i in range(len(num_list) - k + 1):\n",
    "        # Current window\n",
    "        window = num_list[i:i + k]\n",
    "        # find the max value of current window\n",
    "        max_in_window = max(window)\n",
    "        \n",
    "        result = []\n",
    "        if num_list[:i]:\n",
    "            result.append(', '.join(map(str, num_list[:i])))\n",
    "        result.append('[{}]'.format(', '.join(map(str, window))))\n",
    "        result.append(', '.join(map(str, num_list[i + k:])))\n",
    "        print(f\"{','.join(result)} => max {max_in_window}\")"
   ]
  },
  {
   "cell_type": "code",
   "execution_count": 2,
   "id": "b0eea5b7",
   "metadata": {},
   "outputs": [
    {
     "name": "stdout",
     "output_type": "stream",
     "text": [
      "[3, 4, 5],1, -44, 5, 10, 12, 33, 1 => max 5\n",
      "3,[4, 5, 1],-44, 5, 10, 12, 33, 1 => max 5\n",
      "3, 4,[5, 1, -44],5, 10, 12, 33, 1 => max 5\n",
      "3, 4, 5,[1, -44, 5],10, 12, 33, 1 => max 5\n",
      "3, 4, 5, 1,[-44, 5, 10],12, 33, 1 => max 10\n",
      "3, 4, 5, 1, -44,[5, 10, 12],33, 1 => max 12\n",
      "3, 4, 5, 1, -44, 5,[10, 12, 33],1 => max 33\n",
      "3, 4, 5, 1, -44, 5, 10,[12, 33, 1], => max 33\n"
     ]
    }
   ],
   "source": [
    "# Input\n",
    "num_list = [3, 4, 5, 1, -44, 5, 10, 12, 33, 1]\n",
    "sliding_window_max(num_list, 3)"
   ]
  },
  {
   "cell_type": "code",
   "execution_count": 3,
   "id": "2d81b6ea",
   "metadata": {},
   "outputs": [],
   "source": [
    "def count_occurrence(str):\n",
    "    result = {}\n",
    "    for c in str:\n",
    "        if c in result:\n",
    "            result[c]= result.get(c) + 1\n",
    "        else:\n",
    "            result[c]= 1\n",
    "    \n",
    "    return result"
   ]
  },
  {
   "cell_type": "code",
   "execution_count": 4,
   "id": "17a5dc56",
   "metadata": {},
   "outputs": [
    {
     "name": "stdout",
     "output_type": "stream",
     "text": [
      "{'H': 1, 'a': 1, 'p': 2, 'i': 1, 'n': 1, 'e': 1, 's': 2}\n",
      "{'s': 2, 'm': 1, 'i': 1, 'l': 1, 'e': 1}\n"
     ]
    }
   ],
   "source": [
    "value = \"Happiness\"\n",
    "print(f\"{count_occurrence(value)}\")\n",
    "print(f\"{count_occurrence('smiles')}\")"
   ]
  },
  {
   "cell_type": "code",
   "execution_count": 5,
   "id": "7ec29281",
   "metadata": {},
   "outputs": [],
   "source": [
    "def count_word(file_path):\n",
    "    with open(file_path, 'r') as file:\n",
    "        content = file.read()\n",
    "        words = content.split()\n",
    "        count_occurrence = {}\n",
    "        for word in words:\n",
    "            word_lower = word.lower()\n",
    "            if word_lower in count_occurrence:\n",
    "                count_occurrence[word_lower] = count_occurrence.get(word_lower)+1\n",
    "            else:\n",
    "                count_occurrence[word_lower] = 1\n",
    "        return count_occurrence"
   ]
  },
  {
   "cell_type": "code",
   "execution_count": 6,
   "id": "f9897190",
   "metadata": {},
   "outputs": [
    {
     "name": "stdout",
     "output_type": "stream",
     "text": [
      "{'he': 1, 'who': 3, 'conquers': 1, 'himself': 1, 'is': 3, 'the': 5, 'mightiest': 1, 'warrior': 1, 'try': 2, 'not': 1, 'to': 3, 'become': 2, 'a': 7, 'man': 6, 'of': 4, 'success': 3, 'but': 1, 'rather': 1, 'value': 1, 'one': 4, 'with': 4, 'courage': 1, 'makes': 1, 'majority': 1, 'secret': 1, 'in': 4, 'life': 2, 'for': 3, 'be': 1, 'ready': 1, 'his': 2, 'opportunity': 1, 'when': 2, 'it': 2, 'comes': 2, 'successful': 2, 'will': 2, 'profit': 1, 'from': 1, 'mistakes': 1, 'and': 1, 'again': 1, 'different': 1, 'way': 1, 'can': 3, 'lay': 1, 'firm': 1, 'foundation': 1, 'bricks': 1, 'others': 1, 'have': 1, 'thrown': 1, 'at': 1, 'him': 1, 'usually': 1, 'those': 1, 'are': 1, 'too': 1, 'busy': 1, 'looking': 1, 'we': 3, 'cannot': 1, 'solve': 1, 'problems': 1, 'kind': 1, 'thinking': 1, 'employed': 1, 'came': 1, 'up': 1, 'them': 1, 'just': 2, 'small': 1, 'positive': 1, 'thought': 1, 'morning': 1, 'change': 1, 'your': 1, 'whole': 1, 'day': 1, 'you': 3, 'get': 2, 'everything': 1, 'want': 2, 'if': 1, 'help': 1, 'enough': 1, 'other': 1, 'people': 1, 'what': 1, 'they': 1}\n"
     ]
    }
   ],
   "source": [
    "file_path = \"./P1_data.txt\"\n",
    "print(f\"{count_word(file_path)}\")"
   ]
  },
  {
   "cell_type": "code",
   "execution_count": 7,
   "id": "6c68c05b",
   "metadata": {},
   "outputs": [
    {
     "name": "stdout",
     "output_type": "stream",
     "text": [
      "Levenshtein distance between 'kitten' and 'sitting': 3\n",
      "Levenshtein distance between 'kitten' and 'sitting': 1\n"
     ]
    }
   ],
   "source": [
    "#4. Distance Levenshtein.\n",
    "def levenshtein_distance(s1, s2):\n",
    "    \"\"\"\n",
    "    Calculate the distance between two string s1 and s2\n",
    "    \"\"\"\n",
    "    # Generate an maxtrix and initialize values\n",
    "    dp = [[0] * (len(s2) + 1) for _ in range(len(s1) + 1)]\n",
    "    for i in range(len(s1) + 1):\n",
    "        dp[i][0] = i\n",
    "    for j in range(len(s2) + 1):\n",
    "        dp[0][j] = j\n",
    "\n",
    "    # iterate pair characters in two string then update the maxtrix dp\n",
    "    for i in range(1, len(s1) + 1):\n",
    "        for j in range(1, len(s2) + 1):\n",
    "            cost = 0 if s1[i - 1] == s2[j - 1] else 1\n",
    "            dp[i][j] = min(dp[i - 1][j] + 1, dp[i][j - 1] + 1, dp[i - 1][j - 1] + cost)\n",
    "\n",
    "    # the Levenshtein distance is the value at the lower right corner of the matrix\n",
    "    return dp[len(s1)][len(s2)]\n",
    "\n",
    "# Test\n",
    "s1 = \"kitten\"\n",
    "s2 = \"sitting\"\n",
    "print(\"Levenshtein distance between '{}' and '{}': {}\".format(s1, s2, levenshtein_distance(s1, s2)))\n",
    "print(\"Levenshtein distance between '{}' and '{}': {}\".format(s1, s2, levenshtein_distance(\"yu\", \"you\")))\n"
   ]
  },
  {
   "cell_type": "code",
   "execution_count": null,
   "id": "8d69e846",
   "metadata": {},
   "outputs": [],
   "source": []
  }
 ],
 "metadata": {
  "kernelspec": {
   "display_name": "Python 3",
   "language": "python",
   "name": "python3"
  },
  "language_info": {
   "codemirror_mode": {
    "name": "ipython",
    "version": 3
   },
   "file_extension": ".py",
   "mimetype": "text/x-python",
   "name": "python",
   "nbconvert_exporter": "python",
   "pygments_lexer": "ipython3",
   "version": "3.8.8"
  }
 },
 "nbformat": 4,
 "nbformat_minor": 5
}
