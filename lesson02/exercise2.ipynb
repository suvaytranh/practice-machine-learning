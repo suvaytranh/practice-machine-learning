{
 "cells": [
  {
   "cell_type": "code",
   "execution_count": 1,
   "id": "a6056af9",
   "metadata": {},
   "outputs": [],
   "source": [
    "def sliding_window_max(num_list, k):\n",
    "    if k < 1:\n",
    "        raise ValueError(\"Window size must be greater than 0.\")\n",
    "    \n",
    "    for i in range(len(num_list) - k + 1):\n",
    "        # Current window\n",
    "        window = num_list[i:i + k]\n",
    "        # find the max value of current window\n",
    "        max_in_window = max(window)\n",
    "        \n",
    "        result = []\n",
    "        if num_list[:i]:\n",
    "            result.append(', '.join(map(str, num_list[:i])))\n",
    "        result.append('[{}]'.format(', '.join(map(str, window))))\n",
    "        result.append(', '.join(map(str, num_list[i + k:])))\n",
    "        print(f\"{','.join(result)} => max {max_in_window}\")"
   ]
  },
  {
   "cell_type": "code",
   "execution_count": 2,
   "id": "7a78796d",
   "metadata": {},
   "outputs": [
    {
     "name": "stdout",
     "output_type": "stream",
     "text": [
      "[3, 4, 5],1, -44, 5, 10, 12, 33, 1 => max 5\n",
      "3,[4, 5, 1],-44, 5, 10, 12, 33, 1 => max 5\n",
      "3, 4,[5, 1, -44],5, 10, 12, 33, 1 => max 5\n",
      "3, 4, 5,[1, -44, 5],10, 12, 33, 1 => max 5\n",
      "3, 4, 5, 1,[-44, 5, 10],12, 33, 1 => max 10\n",
      "3, 4, 5, 1, -44,[5, 10, 12],33, 1 => max 12\n",
      "3, 4, 5, 1, -44, 5,[10, 12, 33],1 => max 33\n",
      "3, 4, 5, 1, -44, 5, 10,[12, 33, 1], => max 33\n"
     ]
    }
   ],
   "source": [
    "# Input\n",
    "num_list = [3, 4, 5, 1, -44, 5, 10, 12, 33, 1]\n",
    "sliding_window_max(num_list, 3)"
   ]
  },
  {
   "cell_type": "code",
   "execution_count": 3,
   "id": "bbbacaeb",
   "metadata": {},
   "outputs": [
    {
     "name": "stdout",
     "output_type": "stream",
     "text": [
      "[3, 4, 5],1, -44, 5, 10, 12, 33, 1 => max 5\n",
      "3,[4, 5, 1],-44, 5, 10, 12, 33, 1 => max 5\n",
      "3, 4,[5, 1, -44],5, 10, 12, 33, 1 => max 5\n",
      "3, 4, 5,[1, -44, 5],10, 12, 33, 1 => max 5\n",
      "3, 4, 5, 1,[-44, 5, 10],12, 33, 1 => max 10\n",
      "3, 4, 5, 1, -44,[5, 10, 12],33, 1 => max 12\n",
      "3, 4, 5, 1, -44, 5,[10, 12, 33],1 => max 33\n",
      "3, 4, 5, 1, -44, 5, 10,[12, 33, 1], => max 33\n"
     ]
    }
   ],
   "source": [
    "num_list = [3 , 4 , 5 , 1 , -44 , 5 ,10 , 12 ,33 , 1]\n",
    "sliding_window_max(num_list, 3)"
   ]
  },
  {
   "cell_type": "code",
   "execution_count": 4,
   "id": "3883991f",
   "metadata": {},
   "outputs": [],
   "source": [
    "def count_occurrence(str):\n",
    "    result = {}\n",
    "    for c in str:\n",
    "        if c in result:\n",
    "            result[c]= result.get(c) + 1\n",
    "        else:\n",
    "            result[c]= 1\n",
    "    \n",
    "    return result"
   ]
  },
  {
   "cell_type": "code",
   "execution_count": 5,
   "id": "56eb3048",
   "metadata": {},
   "outputs": [
    {
     "name": "stdout",
     "output_type": "stream",
     "text": [
      "{'H': 1, 'a': 1, 'p': 2, 'i': 1, 'n': 1, 'e': 1, 's': 2}\n",
      "{'s': 2, 'm': 1, 'i': 1, 'l': 1, 'e': 1}\n"
     ]
    }
   ],
   "source": [
    "value = \"Happiness\"\n",
    "print(f\"{count_occurrence(value)}\")\n",
    "print(f\"{count_occurrence('smiles')}\")"
   ]
  },
  {
   "cell_type": "code",
   "execution_count": 6,
   "id": "0ef08f5d",
   "metadata": {},
   "outputs": [],
   "source": [
    "def count_word(file_path):\n",
    "    with open(file_path, 'r') as file:\n",
    "        content = file.read()\n",
    "        words = content.split()\n",
    "        count_occurrence = {}\n",
    "        for word in words:\n",
    "            word_lower = word.lower()\n",
    "            if word_lower in count_occurrence:\n",
    "                count_occurrence[word_lower] = count_occurrence.get(word_lower)+1\n",
    "            else:\n",
    "                count_occurrence[word_lower] = 1\n",
    "        return count_occurrence"
   ]
  },
  {
   "cell_type": "code",
   "execution_count": 7,
   "id": "0ebe3bee",
   "metadata": {},
   "outputs": [
    {
     "name": "stdout",
     "output_type": "stream",
     "text": [
      "{'he': 1, 'who': 3, 'conquers': 1, 'himself': 1, 'is': 3, 'the': 5, 'mightiest': 1, 'warrior': 1, 'try': 2, 'not': 1, 'to': 3, 'become': 2, 'a': 7, 'man': 6, 'of': 4, 'success': 3, 'but': 1, 'rather': 1, 'value': 1, 'one': 4, 'with': 4, 'courage': 1, 'makes': 1, 'majority': 1, 'secret': 1, 'in': 4, 'life': 2, 'for': 3, 'be': 1, 'ready': 1, 'his': 2, 'opportunity': 1, 'when': 2, 'it': 2, 'comes': 2, 'successful': 2, 'will': 2, 'profit': 1, 'from': 1, 'mistakes': 1, 'and': 1, 'again': 1, 'different': 1, 'way': 1, 'can': 3, 'lay': 1, 'firm': 1, 'foundation': 1, 'bricks': 1, 'others': 1, 'have': 1, 'thrown': 1, 'at': 1, 'him': 1, 'usually': 1, 'those': 1, 'are': 1, 'too': 1, 'busy': 1, 'looking': 1, 'we': 3, 'cannot': 1, 'solve': 1, 'problems': 1, 'kind': 1, 'thinking': 1, 'employed': 1, 'came': 1, 'up': 1, 'them': 1, 'just': 2, 'small': 1, 'positive': 1, 'thought': 1, 'morning': 1, 'change': 1, 'your': 1, 'whole': 1, 'day': 1, 'you': 3, 'get': 2, 'everything': 1, 'want': 2, 'if': 1, 'help': 1, 'enough': 1, 'other': 1, 'people': 1, 'what': 1, 'they': 1}\n"
     ]
    }
   ],
   "source": [
    "file_path = \"./P1_data.txt\"\n",
    "print(f\"{count_word(file_path)}\")"
   ]
  },
  {
   "cell_type": "code",
   "execution_count": 8,
   "id": "5db39da2",
   "metadata": {},
   "outputs": [
    {
     "name": "stdout",
     "output_type": "stream",
     "text": [
      "Levenshtein distance between 'kitten' and 'sitting': 3\n",
      "Levenshtein distance between 'yu' and 'you': 1\n",
      "Levenshtein distance between 'hola' and 'hello': 3\n"
     ]
    }
   ],
   "source": [
    "#4. Distance Levenshtein.\n",
    "def levenshtein_distance(s1, s2):\n",
    "    \"\"\"\n",
    "    Calculate the distance between two string s1 and s2\n",
    "    \"\"\"\n",
    "    # Generate an maxtrix and initialize values\n",
    "    dp = [[0] * (len(s2) + 1) for _ in range(len(s1) + 1)]\n",
    "    for i in range(len(s1) + 1):\n",
    "        dp[i][0] = i\n",
    "    for j in range(len(s2) + 1):\n",
    "        dp[0][j] = j\n",
    "\n",
    "    # iterate pair characters in two string then update the maxtrix dp\n",
    "    for i in range(1, len(s1) + 1):\n",
    "        for j in range(1, len(s2) + 1):\n",
    "            cost = 0 if s1[i - 1] == s2[j - 1] else 1\n",
    "            dp[i][j] = min(dp[i - 1][j] + 1, dp[i][j - 1] + 1, dp[i - 1][j - 1] + cost)\n",
    "\n",
    "    # the Levenshtein distance is the value at the lower right corner of the matrix\n",
    "    return dp[len(s1)][len(s2)]\n",
    "\n",
    "# Test\n",
    "s1 = \"kitten\"\n",
    "s2 = \"sitting\"\n",
    "print(\"Levenshtein distance between '{}' and '{}': {}\".format(s1, s2, levenshtein_distance(s1, s2)))\n",
    "print(\"Levenshtein distance between '{}' and '{}': {}\".format(\"yu\", \"you\", levenshtein_distance(\"yu\", \"you\")))\n",
    "print(\"Levenshtein distance between '{}' and '{}': {}\".format(\"hola\", \"hello\", levenshtein_distance (\"hola\", \"hello\") ))"
   ]
  },
  {
   "cell_type": "code",
   "execution_count": 9,
   "id": "b12afab5",
   "metadata": {},
   "outputs": [],
   "source": [
    "def check_the_number(N):\n",
    "    list_of_numbers = []\n",
    "    result = \"\"\n",
    "    for i in range(1 , 5):\n",
    "        list_of_numbers.append(i)\n",
    "    if N in list_of_numbers:\n",
    "        results = \"True\"\n",
    "    if N not in list_of_numbers:\n",
    "        results = \"False\"\n",
    "    return results\n",
    "\n",
    "N = 7\n",
    "assert check_the_number(N) == \"False\""
   ]
  },
  {
   "cell_type": "code",
   "execution_count": 10,
   "id": "ee602b75",
   "metadata": {},
   "outputs": [
    {
     "name": "stdout",
     "output_type": "stream",
     "text": [
      "True\n"
     ]
    }
   ],
   "source": [
    "N = 2\n",
    "results = check_the_number(N)\n",
    "print(results)"
   ]
  },
  {
   "cell_type": "code",
   "execution_count": 11,
   "id": "623f5b20",
   "metadata": {},
   "outputs": [
    {
     "name": "stdout",
     "output_type": "stream",
     "text": [
      "[2, 2, 2, 1, 1]\n"
     ]
    }
   ],
   "source": [
    "def my_function( data , max , min):\n",
    "    result = []\n",
    "    for i in data:\n",
    "        if i < min:\n",
    "            result.append(min)\n",
    "        elif i > max:\n",
    "            result.append(max)\n",
    "        else:\n",
    "            result.append(i)\n",
    "    return result\n",
    "\n",
    "my_list = [5 , 2 , 5 , 0 , 1]\n",
    "max = 1\n",
    "min = 0\n",
    "assert my_function(max = max , min = min , data = my_list ) == [1 , 1 , 1 , 0 , 1]\n",
    "my_list = [10 , 2 , 5 , 0 , 1]\n",
    "max = 2\n",
    "min = 1\n",
    "print(my_function(max = max , min = min , data = my_list))"
   ]
  },
  {
   "cell_type": "code",
   "execution_count": 12,
   "id": "ad4e324e",
   "metadata": {},
   "outputs": [
    {
     "name": "stdout",
     "output_type": "stream",
     "text": [
      "[1, 2, 3, 4, 0, 0]\n"
     ]
    }
   ],
   "source": [
    "def my_function(x,y):\n",
    "    x.extend(y)\n",
    "    return x\n",
    "\n",
    "list_num1 = ['a', 2 , 5]\n",
    "list_num2 = [1 , 1]\n",
    "list_num3 = [0 , 0]\n",
    "assert my_function(list_num1 ,my_function(list_num2,list_num3)) == ['a', 2 , 5 , 1 , 1 ,0 , 0]\n",
    "list_num1 = [1 , 2]\n",
    "list_num2 = [3 , 4]\n",
    "list_num3 = [0 , 0]\n",
    "print(my_function(list_num1 ,my_function(list_num2,list_num3)))"
   ]
  },
  {
   "cell_type": "code",
   "execution_count": 13,
   "id": "a5076be1",
   "metadata": {},
   "outputs": [
    {
     "data": {
      "text/plain": [
       "-1"
      ]
     },
     "execution_count": 13,
     "metadata": {},
     "output_type": "execute_result"
    }
   ],
   "source": [
    "def find_min(n):\n",
    "    min_value = n[0]\n",
    "    for i in n:\n",
    "        if min_value > i:\n",
    "            min_value = i\n",
    "    return min_value\n",
    "    \n",
    "my_list = [1, 22, 93, -100]\n",
    "assert find_min(my_list) == -100\n",
    "my_list = [1, 2, 3, -1]\n",
    "find_min(my_list)"
   ]
  },
  {
   "cell_type": "code",
   "execution_count": 14,
   "id": "a7d1c958",
   "metadata": {},
   "outputs": [
    {
     "data": {
      "text/plain": [
       "9"
      ]
     },
     "execution_count": 14,
     "metadata": {},
     "output_type": "execute_result"
    }
   ],
   "source": [
    "def find_max(n):\n",
    "    max_value = n[0]\n",
    "    for i in n:\n",
    "        if max_value < i:\n",
    "            max_value = i\n",
    "    return max_value\n",
    "    \n",
    "my_list = [1001,9,100,0]\n",
    "assert find_max(my_list) == 1001\n",
    "find_max([1,9,9,0])"
   ]
  },
  {
   "cell_type": "code",
   "execution_count": 15,
   "id": "8353c755",
   "metadata": {},
   "outputs": [
    {
     "name": "stdout",
     "output_type": "stream",
     "text": [
      "True\n"
     ]
    }
   ],
   "source": [
    "def compare_number(integers,number= 1):\n",
    "    for i in integers:\n",
    "        if i == number:\n",
    "            return True\n",
    "    return False\n",
    "\n",
    "num_list = [1,3,9,4]\n",
    "assert compare_number(num_list, -1)==False\n",
    "num_list = [1,2,3,4]\n",
    "print(compare_number(num_list, 2))"
   ]
  },
  {
   "cell_type": "code",
   "execution_count": 16,
   "id": "f29b6bb5",
   "metadata": {},
   "outputs": [
    {
     "name": "stdout",
     "output_type": "stream",
     "text": [
      "1.0\n"
     ]
    }
   ],
   "source": [
    "def calculate_average(list_nums = [0,1,2]):\n",
    "    var = 0\n",
    "    for i in list_nums:\n",
    "        var += i\n",
    "    return var/len(list_nums)\n",
    "\n",
    "assert calculate_average([4,6,8])==6\n",
    "print(calculate_average())"
   ]
  },
  {
   "cell_type": "code",
   "execution_count": 17,
   "id": "04c52aef",
   "metadata": {},
   "outputs": [
    {
     "name": "stdout",
     "output_type": "stream",
     "text": [
      "[3, 6]\n"
     ]
    }
   ],
   "source": [
    "def question12(data):\n",
    "    var = []\n",
    "    for i in data:\n",
    "        if i%3 == 0:\n",
    "            var.append(i)\n",
    "    return var\n",
    "\n",
    "assert question12([3,9,4,5]) == [3,9]\n",
    "print(question12([1,2,3,5,6]))"
   ]
  },
  {
   "cell_type": "code",
   "execution_count": 18,
   "id": "1cc8a42c",
   "metadata": {},
   "outputs": [
    {
     "name": "stdout",
     "output_type": "stream",
     "text": [
      "24\n"
     ]
    }
   ],
   "source": [
    "def factorial(y):\n",
    "    var = 1\n",
    "    while(y >1):\n",
    "        var *=y\n",
    "        y -=1\n",
    "    return var\n",
    "\n",
    "assert factorial(8) == 40320\n",
    "print(factorial(4))"
   ]
  },
  {
   "cell_type": "code",
   "execution_count": 19,
   "id": "fcdfaa7f",
   "metadata": {},
   "outputs": [
    {
     "name": "stdout",
     "output_type": "stream",
     "text": [
      "tocirpa\n"
     ]
    }
   ],
   "source": [
    "def reverse_string(input_string):\n",
    "    return input_string[::-1]\n",
    "\n",
    "x = 'I can do it'\n",
    "assert reverse_string(x) == \"ti od nac I\"\n",
    "x = 'apricot'\n",
    "print(reverse_string(x))"
   ]
  },
  {
   "cell_type": "code",
   "execution_count": 20,
   "id": "03287679",
   "metadata": {},
   "outputs": [
    {
     "name": "stdout",
     "output_type": "stream",
     "text": [
      "['T', 'T', 'T', 'N']\n"
     ]
    }
   ],
   "source": [
    "def function_helper(x):\n",
    "    if x > 0:\n",
    "        return \"T\"\n",
    "    return \"N\"\n",
    "\n",
    "def my_function(data):\n",
    "    res = [ function_helper(x) for x in data]\n",
    "    return res\n",
    "\n",
    "data = [10 , 0 , -10 , -1]\n",
    "assert my_function(data) == ['T', 'N', 'N', 'N']\n",
    "data = [2 , 3 , 5 , -1]\n",
    "print(my_function(data))"
   ]
  },
  {
   "cell_type": "code",
   "execution_count": 21,
   "id": "588e1b2a",
   "metadata": {},
   "outputs": [
    {
     "name": "stdout",
     "output_type": "stream",
     "text": [
      "[9, 8, 1]\n"
     ]
    }
   ],
   "source": [
    "def question16(x, data):\n",
    "    for i in data:\n",
    "        if i == x:\n",
    "            return 0\n",
    "    return 1\n",
    "\n",
    "def my_function16(data):\n",
    "    res = []\n",
    "    for i in data:\n",
    "        if question16(i,res):\n",
    "            res.append(i)\n",
    "    return res\n",
    "\n",
    "lst = [10 , 10 , 9 , 7 , 7]\n",
    "assert my_function16(lst) ==[10 , 9 , 7]\n",
    "lst = [9 , 9 , 8 , 1 , 1]\n",
    "print(my_function16(lst))"
   ]
  },
  {
   "cell_type": "code",
   "execution_count": null,
   "id": "9b6d9892",
   "metadata": {},
   "outputs": [],
   "source": []
  }
 ],
 "metadata": {
  "kernelspec": {
   "display_name": "Python 3",
   "language": "python",
   "name": "python3"
  },
  "language_info": {
   "codemirror_mode": {
    "name": "ipython",
    "version": 3
   },
   "file_extension": ".py",
   "mimetype": "text/x-python",
   "name": "python",
   "nbconvert_exporter": "python",
   "pygments_lexer": "ipython3",
   "version": "3.8.8"
  }
 },
 "nbformat": 4,
 "nbformat_minor": 5
}
