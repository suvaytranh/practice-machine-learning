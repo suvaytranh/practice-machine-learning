{
 "cells": [
  {
   "cell_type": "code",
   "execution_count": 384,
   "id": "5ed7d44c",
   "metadata": {},
   "outputs": [
    {
     "name": "stdout",
     "output_type": "stream",
     "text": [
      "Requirement already satisfied: torch in /Users/admin/opt/anaconda3/lib/python3.8/site-packages (2.2.2)\n",
      "Requirement already satisfied: filelock in /Users/admin/opt/anaconda3/lib/python3.8/site-packages (from torch) (3.0.12)\n",
      "Requirement already satisfied: typing-extensions>=4.8.0 in /Users/admin/opt/anaconda3/lib/python3.8/site-packages (from torch) (4.12.2)\n",
      "Requirement already satisfied: networkx in /Users/admin/opt/anaconda3/lib/python3.8/site-packages (from torch) (2.5)\n",
      "Requirement already satisfied: sympy in /Users/admin/opt/anaconda3/lib/python3.8/site-packages (from torch) (1.8)\n",
      "Requirement already satisfied: jinja2 in /Users/admin/opt/anaconda3/lib/python3.8/site-packages (from torch) (2.11.3)\n",
      "Requirement already satisfied: fsspec in /Users/admin/opt/anaconda3/lib/python3.8/site-packages (from torch) (0.9.0)\n",
      "Requirement already satisfied: MarkupSafe>=0.23 in /Users/admin/opt/anaconda3/lib/python3.8/site-packages (from jinja2->torch) (1.1.1)\n",
      "Requirement already satisfied: decorator>=4.3.0 in /Users/admin/opt/anaconda3/lib/python3.8/site-packages (from networkx->torch) (5.0.6)\n",
      "Requirement already satisfied: mpmath>=0.19 in /Users/admin/opt/anaconda3/lib/python3.8/site-packages (from sympy->torch) (1.2.1)\n",
      "Note: you may need to restart the kernel to use updated packages.\n"
     ]
    }
   ],
   "source": [
    "pip install torch"
   ]
  },
  {
   "cell_type": "code",
   "execution_count": 385,
   "id": "c36aee6d",
   "metadata": {},
   "outputs": [],
   "source": [
    "import torch\n",
    "import torch.nn as nn"
   ]
  },
  {
   "cell_type": "code",
   "execution_count": 386,
   "id": "f5661641",
   "metadata": {},
   "outputs": [
    {
     "data": {
      "text/plain": [
       "tensor([0.0900, 0.2447, 0.6652])"
      ]
     },
     "execution_count": 386,
     "metadata": {},
     "output_type": "execute_result"
    }
   ],
   "source": [
    "data = torch.Tensor([1,2,3])\n",
    "softmax_function = nn.Softmax(dim=0)\n",
    "output = softmax_function(data)\n",
    "output"
   ]
  },
  {
   "cell_type": "code",
   "execution_count": 387,
   "id": "2471eac8",
   "metadata": {},
   "outputs": [
    {
     "data": {
      "text/plain": [
       "tensor([0.0900, 0.2447, 0.6652])"
      ]
     },
     "execution_count": 387,
     "metadata": {},
     "output_type": "execute_result"
    }
   ],
   "source": [
    "class MySoftmax(nn.Module):\n",
    "    def __init__(self):\n",
    "        super().__init__()\n",
    "    \n",
    "    def forward(self, x):\n",
    "        x_exp = torch.exp(x)\n",
    "        total = x_exp.sum(0,keepdims = True)\n",
    "        return x_exp/total\n",
    "\n",
    "my_softmax = MySoftmax()\n",
    "output = my_softmax(data)\n",
    "output"
   ]
  },
  {
   "cell_type": "code",
   "execution_count": 388,
   "id": "cc7b5910",
   "metadata": {},
   "outputs": [],
   "source": [
    "data = torch.Tensor([1,2,30000000])"
   ]
  },
  {
   "cell_type": "code",
   "execution_count": 389,
   "id": "6e68cf35",
   "metadata": {},
   "outputs": [
    {
     "data": {
      "text/plain": [
       "tensor([0., 0., 1.])"
      ]
     },
     "execution_count": 389,
     "metadata": {},
     "output_type": "execute_result"
    }
   ],
   "source": [
    "output = softmax_function(data)\n",
    "output"
   ]
  },
  {
   "cell_type": "code",
   "execution_count": 390,
   "id": "a846d53d",
   "metadata": {},
   "outputs": [],
   "source": [
    "class StableSoftmax(nn.Module):\n",
    "    def __init__(self):\n",
    "        super().__init__()\n",
    "    \n",
    "    def forward(self, x):\n",
    "        c = torch.max(x, dim = 0)\n",
    "        x_exp = torch.exp(x-c.values)\n",
    "        total = x_exp.sum(0,keepdims = True)\n",
    "        return x_exp/total"
   ]
  },
  {
   "cell_type": "code",
   "execution_count": 391,
   "id": "fd731498",
   "metadata": {},
   "outputs": [
    {
     "data": {
      "text/plain": [
       "tensor([0., 0., 1.])"
      ]
     },
     "execution_count": 391,
     "metadata": {},
     "output_type": "execute_result"
    }
   ],
   "source": [
    "stable_softmax = StableSoftmax()\n",
    "output = stable_softmax(data)\n",
    "output"
   ]
  },
  {
   "cell_type": "code",
   "execution_count": 392,
   "id": "38ca682f",
   "metadata": {},
   "outputs": [
    {
     "data": {
      "text/plain": [
       "torch.return_types.max(\n",
       "values=tensor(30000000.),\n",
       "indices=tensor(2))"
      ]
     },
     "execution_count": 392,
     "metadata": {},
     "output_type": "execute_result"
    }
   ],
   "source": [
    "torch.max(data, dim=0)"
   ]
  },
  {
   "cell_type": "code",
   "execution_count": 393,
   "id": "82f482e6",
   "metadata": {},
   "outputs": [
    {
     "data": {
      "text/plain": [
       "tensor([0.0900, 0.2447, 0.6652])"
      ]
     },
     "execution_count": 393,
     "metadata": {},
     "output_type": "execute_result"
    }
   ],
   "source": [
    "output = stable_softmax(torch.Tensor([1,2,3]))\n",
    "output"
   ]
  },
  {
   "cell_type": "code",
   "execution_count": 394,
   "id": "a86de07f",
   "metadata": {},
   "outputs": [],
   "source": [
    "# 2.\n",
    "from abc import ABC, abstractmethod    \n",
    "    \n",
    "class Person(ABC):\n",
    "    def __init__(self,name, yob):\n",
    "        self.name = name \n",
    "        self.yob = yob\n",
    "\n",
    "    @abstractmethod\n",
    "    def describe(self):\n",
    "        pass\n",
    "    \n",
    "    def get_yob(self):\n",
    "        return self.yob\n",
    "        \n",
    "class Student(Person):\n",
    "    def __init__(self, name, yob, grade):\n",
    "        super().__init__(name, yob)\n",
    "        self.__grade = grade\n",
    "    \n",
    "    def describe(self):\n",
    "        print(f\"Student: Name : {self.name} - YoB : {self.yob} - Grade : {self.__grade}\")\n",
    "\n",
    "class Doctor(Person):\n",
    "    def __init__(self, name, yob, speciallist):\n",
    "        super().__init__(name, yob)\n",
    "        self.__speciallist = speciallist\n",
    "    \n",
    "    def describe(self):\n",
    "        print(f\"Doctor: Name : {self.name} - YoB : {self.yob} - Speciallist : {self.__speciallist}\")\n",
    "\n",
    "class Teacher(Person):\n",
    "    def __init__(self, name, yob, subject):\n",
    "        super().__init__(name, yob)\n",
    "        self.__subject = subject\n",
    "    \n",
    "    def describe(self):\n",
    "        print(f\"Teacher: Name : {self.name} - YoB : {self.yob} - Subject : {self.__subject}\")\n"
   ]
  },
  {
   "cell_type": "code",
   "execution_count": 395,
   "id": "13658714",
   "metadata": {},
   "outputs": [
    {
     "name": "stdout",
     "output_type": "stream",
     "text": [
      "Student: Name : Thai - YoB : 1999 - Grade : 10\n"
     ]
    }
   ],
   "source": [
    "student1 = Student(\"Thai\", 1999,10)\n",
    "student1.describe()"
   ]
  },
  {
   "cell_type": "code",
   "execution_count": 396,
   "id": "a9b7cca2",
   "metadata": {},
   "outputs": [
    {
     "name": "stdout",
     "output_type": "stream",
     "text": [
      "Doctor: Name : Thai - YoB : 1991 - Speciallist : Anh\n"
     ]
    }
   ],
   "source": [
    "doctor1 = Doctor(\"Thai\", 1991, \"Anh\")\n",
    "doctor1.describe()"
   ]
  },
  {
   "cell_type": "code",
   "execution_count": 397,
   "id": "88da5d28",
   "metadata": {},
   "outputs": [
    {
     "name": "stdout",
     "output_type": "stream",
     "text": [
      "Teacher: Name : ABC - YoB : 1990 - Subject : Math\n"
     ]
    }
   ],
   "source": [
    "teacher1 = Teacher(\"ABC\", 1990,\"Math\")\n",
    "teacher1.describe()"
   ]
  },
  {
   "cell_type": "code",
   "execution_count": 398,
   "id": "7a2a8b46",
   "metadata": {},
   "outputs": [],
   "source": [
    "class Ward:\n",
    "    def __init__(self, name):\n",
    "        self.__name = name \n",
    "        self.__list_people = list()\n",
    "    \n",
    "    def add_person(self, person: Person):\n",
    "        self.__list_people.append(person)\n",
    "    \n",
    "    def describe(self):\n",
    "        print(f\"Name : {self.__name}\")\n",
    "        for p in self.__list_people:\n",
    "            p.describe()"
   ]
  },
  {
   "cell_type": "code",
   "execution_count": 399,
   "id": "f4a3e435",
   "metadata": {},
   "outputs": [],
   "source": [
    "ward1 = Ward(\"Ward1\")"
   ]
  },
  {
   "cell_type": "code",
   "execution_count": 400,
   "id": "abaebeaf",
   "metadata": {},
   "outputs": [],
   "source": [
    "ward1.add_person(student1)"
   ]
  },
  {
   "cell_type": "code",
   "execution_count": 401,
   "id": "a9c958cd",
   "metadata": {},
   "outputs": [
    {
     "name": "stdout",
     "output_type": "stream",
     "text": [
      "Name : Ward1\n",
      "Student: Name : Thai - YoB : 1999 - Grade : 10\n"
     ]
    }
   ],
   "source": [
    "ward1.describe()"
   ]
  },
  {
   "cell_type": "code",
   "execution_count": 402,
   "id": "ee5d67a3",
   "metadata": {},
   "outputs": [],
   "source": [
    "# 3\n",
    "class Ward:\n",
    "    def __init__(self, name):\n",
    "        self.__name = name \n",
    "        self.__list_people = list()\n",
    "    \n",
    "    def add_person(self, person: Person):\n",
    "        self.__list_people.append(person)\n",
    "    \n",
    "    def describe(self):\n",
    "        print(f\"Name : {self.__name}\")\n",
    "        for p in self.__list_people:\n",
    "            p.describe()\n",
    "            \n",
    "    def count_doctor(self):\n",
    "        counter = 0\n",
    "        for p in self.__list_people:\n",
    "            if isinstance(p, Doctor):\n",
    "                counter +=1\n",
    "            \n",
    "        return counter\n",
    "    \n",
    "    def sort_yob(self):\n",
    "        return self.__list_people.sort(key =lambda x: x.get_yob(), reverse = False)\n",
    "    \n",
    "    def compute_average(self):\n",
    "        total = 0\n",
    "        counter = 0\n",
    "        for p in self.__list_people:\n",
    "            if isinstance(p, Teacher):\n",
    "                total += p.get_yob()\n",
    "                counter += 1\n",
    "        \n",
    "        if counter == 0:\n",
    "            return 0\n",
    "            \n",
    "        return total / counter"
   ]
  },
  {
   "cell_type": "code",
   "execution_count": 403,
   "id": "3cd9b0d5",
   "metadata": {},
   "outputs": [
    {
     "data": {
      "text/plain": [
       "1"
      ]
     },
     "execution_count": 403,
     "metadata": {},
     "output_type": "execute_result"
    }
   ],
   "source": [
    "ward2 = Ward(\"Ward2\")\n",
    "ward2.add_person(student1)\n",
    "ward2.add_person(doctor1)\n",
    "ward2.add_person(teacher1)\n",
    "ward2.count_doctor()"
   ]
  },
  {
   "cell_type": "code",
   "execution_count": 404,
   "id": "cfbc8496",
   "metadata": {},
   "outputs": [
    {
     "name": "stdout",
     "output_type": "stream",
     "text": [
      "Name : Ward2\n",
      "Teacher: Name : ABC - YoB : 1990 - Subject : Math\n",
      "Doctor: Name : Thai - YoB : 1991 - Speciallist : Anh\n",
      "Student: Name : Thai - YoB : 1999 - Grade : 10\n"
     ]
    }
   ],
   "source": [
    "# d: sort according to Age \n",
    "ward2.sort_yob()\n",
    "ward2.describe()"
   ]
  },
  {
   "cell_type": "code",
   "execution_count": 405,
   "id": "58055122",
   "metadata": {},
   "outputs": [
    {
     "data": {
      "text/plain": [
       "1990.0"
      ]
     },
     "execution_count": 405,
     "metadata": {},
     "output_type": "execute_result"
    }
   ],
   "source": [
    "# e \n",
    "ward2.compute_average()"
   ]
  },
  {
   "cell_type": "code",
   "execution_count": 406,
   "id": "9e88ca6d",
   "metadata": {},
   "outputs": [],
   "source": [
    "# Stack\n",
    "class MyStack:\n",
    "    def __init__(self, capacity):\n",
    "        self.__capacity = capacity\n",
    "        self.__stack = []\n",
    "    \n",
    "    def is_empty(self):\n",
    "        return len(self.__stack) == 0\n",
    "    \n",
    "    def is_full(self):\n",
    "        return len(self.__stack) == self.__capacity\n",
    "    \n",
    "    def push(self, item):\n",
    "        if self.is_full():\n",
    "            raise Exception('Overflow')\n",
    "        self.__stack.append(item)\n",
    "        \n",
    "    def pop(self):\n",
    "        if self.is_empty():\n",
    "            raise Exception('Underflow')\n",
    "        self.__stack.pop()\n",
    "        \n",
    "    def top(self):\n",
    "        if self.is_empty():\n",
    "            return \"Stack is empty\"\n",
    "        return self.__stack[-1]"
   ]
  },
  {
   "cell_type": "code",
   "execution_count": 407,
   "id": "bfa0f4af",
   "metadata": {},
   "outputs": [],
   "source": [
    "my_stack = MyStack(4)\n",
    "my_stack.is_empty()\n",
    "my_stack.push(5)\n",
    "my_stack.is_empty()\n",
    "my_stack.push(4)"
   ]
  },
  {
   "cell_type": "code",
   "execution_count": 408,
   "id": "73ced931",
   "metadata": {},
   "outputs": [
    {
     "data": {
      "text/plain": [
       "False"
      ]
     },
     "execution_count": 408,
     "metadata": {},
     "output_type": "execute_result"
    }
   ],
   "source": [
    "my_stack.is_full()"
   ]
  },
  {
   "cell_type": "code",
   "execution_count": 409,
   "id": "9452f5dd",
   "metadata": {},
   "outputs": [],
   "source": [
    "my_stack.pop()"
   ]
  },
  {
   "cell_type": "code",
   "execution_count": 410,
   "id": "d60ff33d",
   "metadata": {},
   "outputs": [
    {
     "data": {
      "text/plain": [
       "False"
      ]
     },
     "execution_count": 410,
     "metadata": {},
     "output_type": "execute_result"
    }
   ],
   "source": [
    "my_stack.is_empty()"
   ]
  },
  {
   "cell_type": "code",
   "execution_count": 411,
   "id": "14193797",
   "metadata": {},
   "outputs": [
    {
     "data": {
      "text/plain": [
       "5"
      ]
     },
     "execution_count": 411,
     "metadata": {},
     "output_type": "execute_result"
    }
   ],
   "source": [
    "my_stack.top()"
   ]
  },
  {
   "cell_type": "code",
   "execution_count": 412,
   "id": "c1f91062",
   "metadata": {},
   "outputs": [],
   "source": [
    "# Queue\n",
    "class MyQueue:\n",
    "    def __init__(self, capacity):\n",
    "        self.__capacity = capacity\n",
    "        self.__queue = []\n",
    "    \n",
    "    def is_empty(self):\n",
    "        return len(self.__queue) == 0\n",
    "    \n",
    "    def is_full(self):\n",
    "        return len(self.__queue) == self.__capacity\n",
    "    \n",
    "    def enqueue(self, item):\n",
    "        if self.is_full():\n",
    "            raise Exception('Overflow')\n",
    "        self.__queue.append(item)\n",
    "        \n",
    "    def dequeue(self):\n",
    "        if self.is_empty():\n",
    "            raise Exception('Underflow')\n",
    "        self.__queue.pop(0)\n",
    "        \n",
    "    def front(self):\n",
    "        if self.is_empty():\n",
    "            print(\"Queue is empty\")\n",
    "            return\n",
    "        return self.__queue[0]"
   ]
  },
  {
   "cell_type": "code",
   "execution_count": 413,
   "id": "e57ebf35",
   "metadata": {},
   "outputs": [
    {
     "data": {
      "text/plain": [
       "True"
      ]
     },
     "execution_count": 413,
     "metadata": {},
     "output_type": "execute_result"
    }
   ],
   "source": [
    "my_queue = MyQueue(5)\n",
    "my_queue.is_empty()"
   ]
  },
  {
   "cell_type": "code",
   "execution_count": 414,
   "id": "ede502a9",
   "metadata": {},
   "outputs": [],
   "source": [
    "my_queue.enqueue(5)"
   ]
  },
  {
   "cell_type": "code",
   "execution_count": 415,
   "id": "d170bed7",
   "metadata": {},
   "outputs": [
    {
     "data": {
      "text/plain": [
       "5"
      ]
     },
     "execution_count": 415,
     "metadata": {},
     "output_type": "execute_result"
    }
   ],
   "source": [
    "my_queue.front()"
   ]
  },
  {
   "cell_type": "code",
   "execution_count": 416,
   "id": "fe327881",
   "metadata": {},
   "outputs": [
    {
     "data": {
      "text/plain": [
       "False"
      ]
     },
     "execution_count": 416,
     "metadata": {},
     "output_type": "execute_result"
    }
   ],
   "source": [
    "my_queue.is_empty()"
   ]
  },
  {
   "cell_type": "code",
   "execution_count": 417,
   "id": "f8f4d51b",
   "metadata": {},
   "outputs": [
    {
     "data": {
      "text/plain": [
       "False"
      ]
     },
     "execution_count": 417,
     "metadata": {},
     "output_type": "execute_result"
    }
   ],
   "source": [
    "my_queue.enqueue(4)\n",
    "my_queue.enqueue(3)\n",
    "my_queue.enqueue(2)\n",
    "my_queue.is_full()"
   ]
  },
  {
   "cell_type": "code",
   "execution_count": 418,
   "id": "8d9778c4",
   "metadata": {},
   "outputs": [],
   "source": [
    "my_queue.dequeue()"
   ]
  },
  {
   "cell_type": "code",
   "execution_count": 419,
   "id": "9473144d",
   "metadata": {},
   "outputs": [],
   "source": [
    "my_queue.dequeue()"
   ]
  },
  {
   "cell_type": "code",
   "execution_count": 420,
   "id": "77343b47",
   "metadata": {},
   "outputs": [
    {
     "data": {
      "text/plain": [
       "3"
      ]
     },
     "execution_count": 420,
     "metadata": {},
     "output_type": "execute_result"
    }
   ],
   "source": [
    "my_queue.front()"
   ]
  },
  {
   "cell_type": "code",
   "execution_count": 421,
   "id": "3ba26f2c",
   "metadata": {},
   "outputs": [
    {
     "data": {
      "text/plain": [
       "tensor([0.0900, 0.2447, 0.6652])"
      ]
     },
     "execution_count": 421,
     "metadata": {},
     "output_type": "execute_result"
    }
   ],
   "source": [
    "data = torch . Tensor ([1 , 2 , 3])\n",
    "softmax_function = nn . Softmax ( dim =0)\n",
    "output = softmax_function ( data )\n",
    "assert round ( output [0]. item () , 2) == 0.09\n",
    "output"
   ]
  },
  {
   "cell_type": "code",
   "execution_count": 422,
   "id": "948dace7",
   "metadata": {},
   "outputs": [
    {
     "data": {
      "text/plain": [
       "tensor([0.7054, 0.0351, 0.2595])"
      ]
     },
     "execution_count": 422,
     "metadata": {},
     "output_type": "execute_result"
    }
   ],
   "source": [
    "data = torch . Tensor ([5 , 2 , 4])\n",
    "my_softmax = MySoftmax ()\n",
    "output = my_softmax ( data )\n",
    "assert round ( output [ -1]. item () , 2) == 0.26\n",
    "output"
   ]
  },
  {
   "cell_type": "code",
   "execution_count": 423,
   "id": "9fa6de1f",
   "metadata": {},
   "outputs": [
    {
     "data": {
      "text/plain": [
       "tensor([0., 0., nan])"
      ]
     },
     "execution_count": 423,
     "metadata": {},
     "output_type": "execute_result"
    }
   ],
   "source": [
    "data = torch . Tensor ([1 , 2 , 300000000])\n",
    "my_softmax = MySoftmax ()\n",
    "output = my_softmax ( data )\n",
    "assert round ( output [0]. item () , 2) == 0.0\n",
    "output"
   ]
  },
  {
   "cell_type": "code",
   "execution_count": 424,
   "id": "1af315fe",
   "metadata": {},
   "outputs": [
    {
     "data": {
      "text/plain": [
       "tensor([0.0900, 0.2447, 0.6652])"
      ]
     },
     "execution_count": 424,
     "metadata": {},
     "output_type": "execute_result"
    }
   ],
   "source": [
    "data = torch . Tensor ([1 , 2 , 3])\n",
    "softmax_stable = StableSoftmax()\n",
    "output = softmax_stable ( data )\n",
    "assert round ( output [ -1]. item () , 2) == 0.67\n",
    "output"
   ]
  }
 ],
 "metadata": {
  "kernelspec": {
   "display_name": "Python 3",
   "language": "python",
   "name": "python3"
  },
  "language_info": {
   "codemirror_mode": {
    "name": "ipython",
    "version": 3
   },
   "file_extension": ".py",
   "mimetype": "text/x-python",
   "name": "python",
   "nbconvert_exporter": "python",
   "pygments_lexer": "ipython3",
   "version": "3.8.8"
  }
 },
 "nbformat": 4,
 "nbformat_minor": 5
}
