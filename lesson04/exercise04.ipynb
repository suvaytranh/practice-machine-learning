{
 "cells": [
  {
   "cell_type": "code",
   "execution_count": 4,
   "id": "e36f5ef4",
   "metadata": {},
   "outputs": [],
   "source": [
    "def levenshtein_distance(token1 , token2):\n",
    "    distances = [[0]*(len(token2)+1) for i in range(len(token1)+1)]\n",
    "    \n",
    "    for t1 in range(len(token1)+1):\n",
    "        distances[t1][0] = t1\n",
    "\n",
    "    for t2 in range(len(token2)+1):\n",
    "        distances[0][t2] = t2\n",
    "    \n",
    "    a = 0\n",
    "    b = 0\n",
    "    c = 0\n",
    "\n",
    "    for t1 in range(1,len(token1)+ 1):\n",
    "        for t2 in range(1,len(token2)+ 1):\n",
    "            if(token1[t1 -1] == token2[t2 -1]):\n",
    "                distances[t1][t2] = distances[t1-1][t2-1]\n",
    "            else:\n",
    "                a = distances[t1][t2-1]\n",
    "                b = distances[t1-1][t2]\n",
    "                c = distances[t1-1][t2-1]\n",
    "                \n",
    "                if(a <= b and a <= c):\n",
    "                    distances[t1][t2] = a + 1\n",
    "                elif(b <= a and b <= c):\n",
    "                    distances[t1][t2] = b+1\n",
    "                else:\n",
    "                    distances[t1][t2] = c+1\n",
    "\n",
    "    return distances[len(token1)][len(token2)]\n",
    "\n",
    "def load_vocab(file_path):\n",
    "    with open(file_path, 'r') as f:\n",
    "        lines = f.readlines()\n",
    "    words = sorted(set([line.strip().lower() for line in lines]))\n",
    "    return words\n",
    "\n",
    "vocabs = load_vocab(file_path='./source/data/vocab.txt')"
   ]
  },
  {
   "cell_type": "code",
   "execution_count": null,
   "id": "b7782124",
   "metadata": {},
   "outputs": [],
   "source": []
  }
 ],
 "metadata": {
  "kernelspec": {
   "display_name": "Python 3",
   "language": "python",
   "name": "python3"
  },
  "language_info": {
   "codemirror_mode": {
    "name": "ipython",
    "version": 3
   },
   "file_extension": ".py",
   "mimetype": "text/x-python",
   "name": "python",
   "nbconvert_exporter": "python",
   "pygments_lexer": "ipython3",
   "version": "3.8.8"
  }
 },
 "nbformat": 4,
 "nbformat_minor": 5
}
